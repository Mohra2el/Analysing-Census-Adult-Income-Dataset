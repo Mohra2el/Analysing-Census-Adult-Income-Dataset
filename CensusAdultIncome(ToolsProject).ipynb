{
 "cells": [
  {
   "cell_type": "markdown",
   "metadata": {},
   "source": [
    "# **Analyzing \"Census Adult Income\" Dataset**"
   ]
  },
  {
   "cell_type": "markdown",
   "metadata": {},
   "source": [
    "# Step 1: Import Libraries and Explore the Dataset\n",
    "\n",
    "## **Objectives**\n",
    "- Load the dataset and examine its structure.\n",
    "- Check the first few rows of the data.\n",
    "- Assess the column data types and summary statistics.\n",
    "- Identify any missing values.\n",
    "\n",
    "## **Code**\n"
   ]
  },
  {
   "cell_type": "code",
   "execution_count": 2,
   "metadata": {},
   "outputs": [],
   "source": [
    "# Import required libraries\n",
    "import numpy as np\n",
    "import pandas as pd\n",
    "import seaborn as sns\n",
    "import matplotlib.pyplot as plt\n",
    "\n",
    "\n",
    "# Initialize BigQuery client (if working with BigQuery)\n",
    "from google.cloud import bigquery\n",
    "client = bigquery.Client(project=\"central-catcher-444011-s7\")"
   ]
  },
  {
   "cell_type": "code",
   "execution_count": null,
   "metadata": {},
   "outputs": [
    {
     "name": "stdout",
     "output_type": "stream",
     "text": [
      "   age workclass education       marital_status          occupation  \\\n",
      "0   39   Private       9th   Married-civ-spouse       Other-service   \n",
      "1   77   Private       9th   Married-civ-spouse     Priv-house-serv   \n",
      "2   38   Private       9th   Married-civ-spouse       Other-service   \n",
      "3   28   Private       9th   Married-civ-spouse     Protective-serv   \n",
      "4   37   Private       9th   Married-civ-spouse   Machine-op-inspct   \n",
      "\n",
      "  relationship    race      sex  capital_gain  capital_loss  hours_per_week  \\\n",
      "0         Wife   Black   Female          3411             0              34   \n",
      "1         Wife   Black   Female             0             0              10   \n",
      "2         Wife   Black   Female             0             0              24   \n",
      "3         Wife   Black   Female             0             0              40   \n",
      "4         Wife   Black   Female             0             0              48   \n",
      "\n",
      "   native_country income_bracket  \n",
      "0   United-States          <=50K  \n",
      "1   United-States          <=50K  \n",
      "2           Haiti          <=50K  \n",
      "3   United-States          <=50K  \n",
      "4   United-States          <=50K  \n"
     ]
    }
   ],
   "source": [
    "# Corrected query with valid column names\n",
    "query = \"\"\"\n",
    "    SELECT \n",
    "        age,\n",
    "        workclass,\n",
    "        education,\n",
    "        marital_status,\n",
    "        occupation,\n",
    "        relationship,\n",
    "        race,\n",
    "        sex,\n",
    "        capital_gain,\n",
    "        capital_loss,\n",
    "        hours_per_week,\n",
    "        native_country,\n",
    "        income_bracket\n",
    "    FROM `bigquery-public-data.ml_datasets.census_adult_income`\n",
    "\"\"\"\n",
    "query_job = client.query(query)\n",
    "# Convert query results into a dictionary\n",
    "results = query_job.result()  # This fetches all the rows from the query\n",
    "# Load it directly into a pandas DataFrame\n",
    "df = pd.DataFrame([dict(row) for row in results])\n",
    "print(df.head())\n"
   ]
  },
  {
   "cell_type": "code",
   "execution_count": 3,
   "metadata": {},
   "outputs": [
    {
     "name": "stdout",
     "output_type": "stream",
     "text": [
      "<class 'pandas.core.frame.DataFrame'>\n",
      "RangeIndex: 32561 entries, 0 to 32560\n",
      "Data columns (total 13 columns):\n",
      " #   Column          Non-Null Count  Dtype \n",
      "---  ------          --------------  ----- \n",
      " 0   age             32561 non-null  int64 \n",
      " 1   workclass       32561 non-null  object\n",
      " 2   education       32561 non-null  object\n",
      " 3   marital_status  32561 non-null  object\n",
      " 4   occupation      32561 non-null  object\n",
      " 5   relationship    32561 non-null  object\n",
      " 6   race            32561 non-null  object\n",
      " 7   sex             32561 non-null  object\n",
      " 8   capital_gain    32561 non-null  int64 \n",
      " 9   capital_loss    32561 non-null  int64 \n",
      " 10  hours_per_week  32561 non-null  int64 \n",
      " 11  native_country  32561 non-null  object\n",
      " 12  income_bracket  32561 non-null  object\n",
      "dtypes: int64(4), object(9)\n",
      "memory usage: 3.2+ MB\n",
      "None\n"
     ]
    }
   ],
   "source": [
    "# Check the structure of the DataFrame\n",
    "print(df.info())"
   ]
  },
  {
   "cell_type": "code",
   "execution_count": 4,
   "metadata": {},
   "outputs": [
    {
     "name": "stdout",
     "output_type": "stream",
     "text": [
      "                age  capital_gain  capital_loss  hours_per_week\n",
      "count  32561.000000  32561.000000  32561.000000    32561.000000\n",
      "mean      38.581647   1077.648844     87.303830       40.437456\n",
      "std       13.640433   7385.292085    402.960219       12.347429\n",
      "min       17.000000      0.000000      0.000000        1.000000\n",
      "25%       28.000000      0.000000      0.000000       40.000000\n",
      "50%       37.000000      0.000000      0.000000       40.000000\n",
      "75%       48.000000      0.000000      0.000000       45.000000\n",
      "max       90.000000  99999.000000   4356.000000       99.000000\n"
     ]
    }
   ],
   "source": [
    "# Check the structure of the DataFrame\n",
    "print(df.describe())"
   ]
  },
  {
   "cell_type": "code",
   "execution_count": 5,
   "metadata": {},
   "outputs": [
    {
     "name": "stdout",
     "output_type": "stream",
     "text": [
      "age                73\n",
      "workclass           9\n",
      "education          16\n",
      "marital_status      7\n",
      "occupation         15\n",
      "relationship        6\n",
      "race                5\n",
      "sex                 2\n",
      "capital_gain      119\n",
      "capital_loss       92\n",
      "hours_per_week     94\n",
      "native_country     42\n",
      "income_bracket      2\n",
      "dtype: int64\n"
     ]
    }
   ],
   "source": [
    "# Count the number of unique values in each column\n",
    "unique_counts = df.nunique()\n",
    "\n",
    "# Print the unique counts for each column\n",
    "print(unique_counts)"
   ]
  },
  {
   "cell_type": "markdown",
   "metadata": {},
   "source": [
    "# Step 2: Data Cleaning"
   ]
  },
  {
   "cell_type": "markdown",
   "metadata": {},
   "source": [
    "1. Check the missing values"
   ]
  },
  {
   "cell_type": "code",
   "execution_count": 6,
   "metadata": {},
   "outputs": [
    {
     "name": "stdout",
     "output_type": "stream",
     "text": [
      "Missing values per column:\n",
      "age               0\n",
      "workclass         0\n",
      "education         0\n",
      "marital_status    0\n",
      "occupation        0\n",
      "relationship      0\n",
      "race              0\n",
      "sex               0\n",
      "capital_gain      0\n",
      "capital_loss      0\n",
      "hours_per_week    0\n",
      "native_country    0\n",
      "income_bracket    0\n",
      "dtype: int64\n"
     ]
    }
   ],
   "source": [
    "# Check for missing values\n",
    "missing_values = df.isnull().sum()\n",
    "print(\"Missing values per column:\")\n",
    "print(missing_values)"
   ]
  },
  {
   "cell_type": "markdown",
   "metadata": {},
   "source": [
    "2. Check the duplicates"
   ]
  },
  {
   "cell_type": "code",
   "execution_count": 7,
   "metadata": {},
   "outputs": [
    {
     "name": "stdout",
     "output_type": "stream",
     "text": [
      "Number of duplicate rows: 3465\n"
     ]
    }
   ],
   "source": [
    "# Check for duplicate rows\n",
    "duplicates = df.duplicated().sum()\n",
    "print(f\"Number of duplicate rows: {duplicates}\")"
   ]
  },
  {
   "cell_type": "code",
   "execution_count": 8,
   "metadata": {},
   "outputs": [],
   "source": [
    "# Alternatively, if you want to modify the DataFrame in place\n",
    "df.drop_duplicates(inplace=True)"
   ]
  },
  {
   "cell_type": "code",
   "execution_count": 9,
   "metadata": {},
   "outputs": [
    {
     "name": "stdout",
     "output_type": "stream",
     "text": [
      "Number of duplicate rows: 0\n"
     ]
    }
   ],
   "source": [
    "# Check for duplicate rows\n",
    "duplicates = df.duplicated().sum()\n",
    "print(f\"Number of duplicate rows: {duplicates}\")"
   ]
  },
  {
   "cell_type": "markdown",
   "metadata": {},
   "source": [
    "3. Handling the Data Types"
   ]
  },
  {
   "cell_type": "code",
   "execution_count": 10,
   "metadata": {},
   "outputs": [
    {
     "name": "stdout",
     "output_type": "stream",
     "text": [
      "\n",
      "Updated data types:\n",
      "age                  int64\n",
      "workclass         category\n",
      "education         category\n",
      "marital_status    category\n",
      "occupation        category\n",
      "relationship      category\n",
      "race              category\n",
      "sex               category\n",
      "capital_gain         int64\n",
      "capital_loss         int64\n",
      "hours_per_week       int64\n",
      "native_country    category\n",
      "income_bracket    category\n",
      "dtype: object\n"
     ]
    }
   ],
   "source": [
    "import pandas as pd\n",
    "\n",
    "# Convert numerical columns explicitly (if necessary)\n",
    "numerical_columns = ['age', 'capital_gain', 'capital_loss', 'hours_per_week']\n",
    "df[numerical_columns] = df[numerical_columns].apply(pd.to_numeric)\n",
    "\n",
    "# Convert categorical columns to 'category' type\n",
    "categorical_columns = ['workclass', 'education', 'marital_status', 'occupation',\n",
    "                       'relationship', 'race', 'sex', 'native_country', 'income_bracket']\n",
    "df[categorical_columns] = df[categorical_columns].apply(lambda col: col.astype('category'))\n",
    "\n",
    "# Verify changes\n",
    "print(\"\\nUpdated data types:\")\n",
    "print(df.dtypes)\n"
   ]
  },
  {
   "cell_type": "code",
   "execution_count": 11,
   "metadata": {},
   "outputs": [
    {
     "name": "stdout",
     "output_type": "stream",
     "text": [
      "\n",
      "Unique values in categorical columns:\n",
      "workclass: 9 unique values\n",
      "education: 16 unique values\n",
      "marital_status: 7 unique values\n",
      "occupation: 15 unique values\n",
      "relationship: 6 unique values\n",
      "race: 5 unique values\n",
      "sex: 2 unique values\n",
      "native_country: 42 unique values\n",
      "income_bracket: 2 unique values\n"
     ]
    }
   ],
   "source": [
    "# Check for any anomalies (e.g., unexpected missing or unique values after conversion)\n",
    "print(\"\\nUnique values in categorical columns:\")\n",
    "for col in categorical_columns:\n",
    "    print(f\"{col}: {df[col].nunique()} unique values\")"
   ]
  },
  {
   "cell_type": "markdown",
   "metadata": {},
   "source": [
    "4. Addressing Outliers or Anomalies"
   ]
  },
  {
   "cell_type": "code",
   "execution_count": 12,
   "metadata": {},
   "outputs": [
    {
     "data": {
      "image/png": "[encoded data removed]",
      "text/plain": [
       "<Figure size 800x400 with 1 Axes>"
      ]
     },
     "metadata": {},
     "output_type": "display_data"
    },
    {
     "data": {
      "image/png": "[encoded data removed]",
      "text/plain": [
       "<Figure size 800x400 with 1 Axes>"
      ]
     },
     "metadata": {},
     "output_type": "display_data"
    },
    {
     "data": {
      "image/png": "[encoded data removed]",
      "text/plain": [
       "<Figure size 800x400 with 1 Axes>"
      ]
     },
     "metadata": {},
     "output_type": "display_data"
    },
    {
     "data": {
      "image/png": "[encoded data removed]",
      "text/plain": [
       "<Figure size 800x400 with 1 Axes>"
      ]
     },
     "metadata": {},
     "output_type": "display_data"
    }
   ],
   "source": [
    "# Visualize potential outliers in numerical columns\n",
    "numerical_cols = ['age', 'capital_gain', 'capital_loss', 'hours_per_week']\n",
    "for col in numerical_cols:\n",
    "    plt.figure(figsize=(8, 4))\n",
    "    sns.boxplot(x=df[col])\n",
    "    plt.title(f\"Boxplot of {col}\")\n",
    "    plt.show()\n"
   ]
  },
  {
   "cell_type": "markdown",
   "metadata": {},
   "source": [
    "## **Why we don't remove the outliers?**\n",
    "### - **Age**\n",
    "**Reason:** Extreme ages (young or old) reflect real-world variations in income, such as teenagers or retirees. Removing them would ignore valid demographic trends.\n",
    "**Decision:** Keep outliers for accurate demographic representation.\n",
    "### - **Capital Gain & Capital Loss**\n",
    "**Reason:** High capital gain/loss values indicate individuals with investments or unique financial circumstances. These are meaningful and not errors.\n",
    "**Decision:** Retain outliers to capture financial diversity in income analysis.\n",
    "### - **Hours Per Week**\n",
    "**Reason:** Extremely high or low working hours represent diverse work patterns, such as part-time, full-time, or overtime workers. Removing these would discard important data.\n",
    "**Decision:** Keep outliers to reflect the full spectrum of working hours."
   ]
  },
  {
   "cell_type": "markdown",
   "metadata": {},
   "source": [
    "5. Cleaning Up Invalid or Inconsistent Entries"
   ]
  },
  {
   "cell_type": "code",
   "execution_count": 13,
   "metadata": {},
   "outputs": [
    {
     "name": "stdout",
     "output_type": "stream",
     "text": [
      "Unique values in workclass:\n",
      "[' Private', ' ?', ' Local-gov', ' Self-emp-inc', ' Federal-gov', ' State-gov', ' Self-emp-not-inc', ' Never-worked', ' Without-pay']\n",
      "Categories (9, object): [' ?', ' Federal-gov', ' Local-gov', ' Never-worked', ..., ' Self-emp-inc', ' Self-emp-not-inc', ' State-gov', ' Without-pay']\n",
      "Unique values in education:\n",
      "[' 9th', ' 10th', ' 11th', ' 12th', ' 1st-4th', ..., ' Doctorate', ' Preschool', ' Assoc-acdm', ' Prof-school', ' Some-college']\n",
      "Length: 16\n",
      "Categories (16, object): [' 10th', ' 11th', ' 12th', ' 1st-4th', ..., ' Masters', ' Preschool', ' Prof-school', ' Some-college']\n",
      "Unique values in marital_status:\n",
      "[' Married-civ-spouse', ' Separated', ' Never-married', ' Divorced', ' Married-spouse-absent', ' Widowed', ' Married-AF-spouse']\n",
      "Categories (7, object): [' Divorced', ' Married-AF-spouse', ' Married-civ-spouse', ' Married-spouse-absent', ' Never-married', ' Separated', ' Widowed']\n",
      "Unique values in occupation:\n",
      "[' Other-service', ' Priv-house-serv', ' Protective-serv', ' Machine-op-inspct', ' ?', ..., ' Craft-repair', ' Transport-moving', ' Handlers-cleaners', ' Prof-specialty', ' Armed-Forces']\n",
      "Length: 15\n",
      "Categories (15, object): [' ?', ' Adm-clerical', ' Armed-Forces', ' Craft-repair', ..., ' Protective-serv', ' Sales', ' Tech-support', ' Transport-moving']\n",
      "Unique values in relationship:\n",
      "[' Wife', ' Husband', ' Own-child', ' Unmarried', ' Not-in-family', ' Other-relative']\n",
      "Categories (6, object): [' Husband', ' Not-in-family', ' Other-relative', ' Own-child', ' Unmarried', ' Wife']\n",
      "Unique values in race:\n",
      "[' Black', ' White', ' Asian-Pac-Islander', ' Other', ' Amer-Indian-Eskimo']\n",
      "Categories (5, object): [' Amer-Indian-Eskimo', ' Asian-Pac-Islander', ' Black', ' Other', ' White']\n",
      "Unique values in sex:\n",
      "[' Female', ' Male']\n",
      "Categories (2, object): [' Female', ' Male']\n",
      "Unique values in native_country:\n",
      "[' United-States', ' Haiti', ' Portugal', ' Yugoslavia', ' Dominican-Republic', ..., ' Hungary', ' Iran', ' Taiwan', ' France', ' Holand-Netherlands']\n",
      "Length: 42\n",
      "Categories (42, object): [' ?', ' Cambodia', ' Canada', ' China', ..., ' Trinadad&Tobago', ' United-States', ' Vietnam', ' Yugoslavia']\n"
     ]
    }
   ],
   "source": [
    "# Identify unique values in categorical columns\n",
    "categorical_cols = ['workclass', 'education', 'marital_status', 'occupation', 'relationship', 'race', 'sex', 'native_country']\n",
    "for col in categorical_cols:\n",
    "    print(f\"Unique values in {col}:\")\n",
    "    print(df[col].unique())"
   ]
  },
  {
   "cell_type": "code",
   "execution_count": 14,
   "metadata": {},
   "outputs": [
    {
     "name": "stdout",
     "output_type": "stream",
     "text": [
      "Unique values in workclass:\n",
      "['private' '?' 'local-gov' 'self-emp-inc' 'federal-gov' 'state-gov'\n",
      " 'self-emp-not-inc' 'never-worked' 'without-pay']\n",
      "Unique values in education:\n",
      "['9th' '10th' '11th' '12th' '1st-4th' '5th-6th' '7th-8th' 'hs-grad'\n",
      " 'masters' 'assoc-voc' 'bachelors' 'doctorate' 'preschool' 'assoc-acdm'\n",
      " 'prof-school' 'some-college']\n",
      "Unique values in marital_status:\n",
      "['married-civ-spouse' 'separated' 'never-married' 'divorced'\n",
      " 'married-spouse-absent' 'widowed' 'married-af-spouse']\n",
      "Unique values in occupation:\n",
      "['other-service' 'priv-house-serv' 'protective-serv' 'machine-op-inspct'\n",
      " '?' 'tech-support' 'exec-managerial' 'farming-fishing' 'adm-clerical'\n",
      " 'sales' 'craft-repair' 'transport-moving' 'handlers-cleaners'\n",
      " 'prof-specialty' 'armed-forces']\n",
      "Unique values in relationship:\n",
      "['wife' 'husband' 'own-child' 'unmarried' 'not-in-family' 'other-relative']\n",
      "Unique values in race:\n",
      "['black' 'white' 'asian-pac-islander' 'other' 'amer-indian-eskimo']\n",
      "Unique values in sex:\n",
      "['female' 'male']\n",
      "Unique values in native_country:\n",
      "['united-states' 'haiti' 'portugal' 'yugoslavia' 'dominican-republic'\n",
      " 'hong' '?' 'trinadad&tobago' 'mexico' 'guatemala' 'puerto-rico' 'canada'\n",
      " 'poland' 'outlying-us(guam-usvi-etc)' 'india' 'el-salvador' 'nicaragua'\n",
      " 'philippines' 'cuba' 'columbia' 'vietnam' 'jamaica' 'ireland' 'china'\n",
      " 'japan' 'italy' 'peru' 'england' 'ecuador' 'greece' 'germany' 'laos'\n",
      " 'scotland' 'south' 'honduras' 'cambodia' 'thailand' 'hungary' 'iran'\n",
      " 'taiwan' 'france' 'holand-netherlands']\n"
     ]
    }
   ],
   "source": [
    "# Correcting variations or typos in 'workclass' category\n",
    "df['workclass'] = df['workclass'].replace({\n",
    "    'self-emp-not-inc': 'self-employed',\n",
    "    'self-emp-inc': 'self-employed'\n",
    "})\n",
    "\n",
    "# Standardizing the 'marital_status' categories for consistency\n",
    "df['marital_status'] = df['marital_status'].replace({\n",
    "    'married-civ-spouse': 'married',\n",
    "    'married-spouse-absent': 'married',\n",
    "    'married-AF-spouse': 'married'\n",
    "})\n",
    "\n",
    "df['occupation'] = df['occupation'].replace({\n",
    "    'machine-op-inspct': 'machine-operation-inspctor',\n",
    "    'exec-managerial': 'executive',\n",
    "    'adm-clerical': 'Administrative'\n",
    "})\n",
    "\n",
    "df['education'] = df['education'].replace({\n",
    "    '9th grade': '9th',\n",
    "    '10th grade': '10th',\n",
    "    '11th grade': '11th',\n",
    "    '12th grade': '12th',\n",
    "    '1st-4th': 'elementary school',\n",
    "    '5th-6th': 'elementary school',\n",
    "    '7th-8th': 'middle school',\n",
    "    'assoc-voc': 'associate\\'s degree vocational',\n",
    "    'assoc-acdm': 'associate\\'s degree academic',\n",
    "    'prof-school': 'professional school',\n",
    "    'some-college': 'some college'\n",
    "})\n",
    "\n",
    "\n",
    "# Checking for unexpected or invalid categories in 'native_country'\n",
    "df['native_country'] = df['native_country'].replace({'unknown': 'Other'})\n",
    "\n",
    "# Standardize Text Columns to Lowercase\n",
    "# Convert other text-based columns to lowercase to avoid inconsistencies.\n",
    "df['workclass'] = df['workclass'].str.lower()  # Convert 'workclass' to lowercase\n",
    "df['education'] = df['education'].str.lower()  # Convert 'education' to lowercase\n",
    "df['marital_status'] = df['marital_status'].str.lower()  # Convert 'marital_status' to lowercase\n",
    "df['occupation'] = df['occupation'].str.lower()  # Convert 'occupation' to lowercase\n",
    "df['relationship'] = df['relationship'].str.lower()  # Convert 'relationship' to lowercase\n",
    "df['race'] = df['race'].str.lower()  # Convert 'race' to lowercase\n",
    "df['sex'] = df['sex'].str.lower()  # Convert 'sex' to lowercase\n",
    "df['native_country'] = df['native_country'].str.lower()\n",
    "\n",
    "\n",
    "# Strip Whitespace from Categorical Columns\n",
    "# Removing leading/trailing spaces in categorical data to avoid mismatches\n",
    "df['education'] = df['education'].str.strip()  # Remove extra spaces from 'education'\n",
    "df['workclass'] = df['workclass'].str.strip()  # Remove extra spaces from 'workclass'\n",
    "df['marital_status'] = df['marital_status'].str.strip()  # Remove extra spaces from 'marital_status'\n",
    "df['occupation'] = df['occupation'].str.strip()  # Remove extra spaces from 'occupation'\n",
    "df['native_country'] = df['native_country'].str.strip()  \n",
    "df['relationship'] = df['relationship'].str.strip()\n",
    "df['race'] = df['race'].str.strip()\n",
    "df['sex'] = df['sex'].str.strip()\n",
    "\n",
    "\n",
    "# Print a summary of the changes made\n",
    "categorical_cols = ['workclass', 'education', 'marital_status', 'occupation', 'relationship', 'race', 'sex', 'native_country']\n",
    "for col in categorical_cols:\n",
    "    print(f\"Unique values in {col}:\")\n",
    "    print(df[col].unique())\n",
    "\n"
   ]
  },
  {
   "cell_type": "code",
   "execution_count": 15,
   "metadata": {},
   "outputs": [
    {
     "name": "stderr",
     "output_type": "stream",
     "text": [
      "<>:2: SyntaxWarning: invalid escape sequence '\\?'\n",
      "<>:2: SyntaxWarning: invalid escape sequence '\\?'\n",
      "C:\\Users\\Shahd\\AppData\\Local\\Temp\\ipykernel_24164\\3743376911.py:2: SyntaxWarning: invalid escape sequence '\\?'\n",
      "  columns_with_question_mark = df.apply(lambda x: x.astype(str).str.contains('\\?', na=False).sum(), axis=0)\n"
     ]
    },
    {
     "name": "stdout",
     "output_type": "stream",
     "text": [
      "workclass         1632\n",
      "occupation        1639\n",
      "native_country     580\n",
      "dtype: int64\n"
     ]
    }
   ],
   "source": [
    "# Convert all columns to string type and then check for '?' marks\n",
    "columns_with_question_mark = df.apply(lambda x: x.astype(str).str.contains('\\?', na=False).sum(), axis=0)\n",
    "\n",
    "# Display columns where '?' appears\n",
    "print(columns_with_question_mark[columns_with_question_mark > 0])\n"
   ]
  },
  {
   "cell_type": "code",
   "execution_count": 16,
   "metadata": {},
   "outputs": [
    {
     "name": "stdout",
     "output_type": "stream",
     "text": [
      "workclass         1632\n",
      "occupation        1639\n",
      "native_country     580\n",
      "dtype: int64\n"
     ]
    }
   ],
   "source": [
    "# Convert '?' to NaN\n",
    "df['workclass'] = df['workclass'].replace('?', np.nan)\n",
    "df['occupation'] = df['occupation'].replace('?', np.nan)\n",
    "df['native_country'] = df['native_country'].replace('?', np.nan)\n",
    "\n",
    "# Check for NaN values to confirm the conversion\n",
    "print(df[['workclass', 'occupation', 'native_country']].isna().sum())"
   ]
  },
  {
   "cell_type": "code",
   "execution_count": 17,
   "metadata": {},
   "outputs": [
    {
     "name": "stdout",
     "output_type": "stream",
     "text": [
      "workclass         0\n",
      "occupation        0\n",
      "native_country    0\n",
      "dtype: int64\n"
     ]
    }
   ],
   "source": [
    "# Impute NaN values with the mode (most frequent value) for each column\n",
    "df['workclass'] = df['workclass'].fillna(df['workclass'].mode()[0])\n",
    "df['occupation'] = df['occupation'].fillna(df['occupation'].mode()[0])\n",
    "df['native_country'] = df['native_country'].fillna(df['native_country'].mode()[0])\n",
    "\n",
    "# Check for NaN values to confirm replacing them\n",
    "print(df[['workclass', 'occupation', 'native_country']].isna().sum())\n"
   ]
  },
  {
   "cell_type": "markdown",
   "metadata": {},
   "source": [
    "# Step 3: Data Visualization\n",
    "- Create some charts, colleration matrix, heatmap, and any other additional thing you find by your search \n",
    "- Write conclusion under each of the chart"
   ]
  },
  {
   "cell_type": "code",
   "execution_count": null,
   "metadata": {},
   "outputs": [],
   "source": []
  },
  {
   "cell_type": "markdown",
   "metadata": {},
   "source": [
    "# Step 4: Data Preprocessing\n",
    "\"Search for steps suitable for the following ML algorithms\" \n",
    "- Encoding categorical data.\n",
    "- Scaling or normalizing numerical features.\n",
    "- Feature engineering (e.g., creating or combining features).\n"
   ]
  },
  {
   "cell_type": "code",
   "execution_count": null,
   "metadata": {},
   "outputs": [],
   "source": []
  },
  {
   "cell_type": "markdown",
   "metadata": {},
   "source": [
    "# Step 5: Machine Learning Algorithms\n",
    "### ~ Dataset Characteristics\n",
    "- **Goal:** Predict income_bracket (binary classification: <=50K or >50K).\n",
    "- **Features:**\n",
    "Mix of numerical (e.g., age, hours_per_week) and categorical (e.g., workclass, occupation) data.\n",
    "Some features (e.g., capital_gain and capital_loss) have skewed distributions or high sparsity.\n",
    "- **The target is imbalanced:** typically, fewer people earn >50K.\n",
    "\n",
    "## 1. Logistic Regression\n",
    "**Why??**\n",
    "- Works well for binary classification.\n",
    "- Performs efficiently on structured datasets with preprocessed data.\n",
    "- Handles imbalanced classes reasonably well when combined with class weights or balancing techniques."
   ]
  },
  {
   "cell_type": "code",
   "execution_count": null,
   "metadata": {},
   "outputs": [],
   "source": []
  },
  {
   "cell_type": "markdown",
   "metadata": {},
   "source": [
    "## 2. Random Forest Classifier\n",
    "\n",
    "**Why??**\n",
    "- Handles mixed data types (numerical and categorical).\n",
    "- Automatically manages interactions between features without extensive preprocessing.\n",
    "- Robust to outliers and irrelevant features.\n",
    "- Performs well even with imbalanced datasets (with appropriate class weights or sampling).\n",
    "\n",
    "\"Will use it to improve the evaluation\""
   ]
  },
  {
   "cell_type": "markdown",
   "metadata": {},
   "source": [
    "## Steps\n",
    "1. Split Data:\n",
    "- Divide the dataset into training and test sets.\n",
    "2. Train Both Models:\n",
    "- Train logistic regression and random forest models on the same training data.\n",
    "3. Evaluate Metrics:\n",
    "- Compare metrics like Accuracy, Precision, Recall, and F1-Score on the test set.\n",
    "4. Cross-Validation:\n",
    "- Use cross-validation to ensure robustness."
   ]
  },
  {
   "cell_type": "code",
   "execution_count": null,
   "metadata": {},
   "outputs": [],
   "source": []
  }
 ],
 "metadata": {
  "kernelspec": {
   "display_name": "Python 3",
   "language": "python",
   "name": "python3"
  },
  "language_info": {
   "codemirror_mode": {
    "name": "ipython",
    "version": 3
   },
   "file_extension": ".py",
   "mimetype": "text/x-python",
   "name": "python",
   "nbconvert_exporter": "python",
   "pygments_lexer": "ipython3",
   "version": "3.12.8"
  }
 },
 "nbformat": 4,
 "nbformat_minor": 2
}
