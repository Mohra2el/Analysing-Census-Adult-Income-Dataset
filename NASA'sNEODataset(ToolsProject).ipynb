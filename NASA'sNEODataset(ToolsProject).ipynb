{
 "cells": [
  {
   "cell_type": "markdown",
   "metadata": {},
   "source": [
    "# **Analyzing \"Census Adult Income\" Dataset**"
   ]
  },
  {
   "cell_type": "markdown",
   "metadata": {},
   "source": [
    "# Step 1: Import Libraries and Explore the Dataset\n",
    "\n",
    "## **Objectives**\n",
    "- Load the dataset and examine its structure.\n",
    "- Check the first few rows of the data.\n",
    "- Assess the column data types and summary statistics.\n",
    "- Identify any missing values.\n",
    "\n",
    "## **Code**\n"
   ]
  },
  {
   "cell_type": "code",
   "execution_count": 16,
   "metadata": {},
   "outputs": [],
   "source": [
    "# Import required libraries\n",
    "import numpy as np\n",
    "import pandas as pd\n",
    "import seaborn as sns\n",
    "import matplotlib.pyplot as plt\n",
    "\n",
    "\n",
    "# Initialize BigQuery client (if working with BigQuery)\n",
    "from google.cloud import bigquery\n",
    "client = bigquery.Client(project=\"central-catcher-444011-s7\")"
   ]
  },
  {
   "cell_type": "code",
   "execution_count": 17,
   "metadata": {},
   "outputs": [
    {
     "name": "stdout",
     "output_type": "stream",
     "text": [
      "   age workclass education  education_num       marital_status  \\\n",
      "0   39   Private       9th              5   Married-civ-spouse   \n",
      "1   77   Private       9th              5   Married-civ-spouse   \n",
      "2   38   Private       9th              5   Married-civ-spouse   \n",
      "3   28   Private       9th              5   Married-civ-spouse   \n",
      "4   37   Private       9th              5   Married-civ-spouse   \n",
      "\n",
      "           occupation relationship    race      sex  capital_gain  \\\n",
      "0       Other-service         Wife   Black   Female          3411   \n",
      "1     Priv-house-serv         Wife   Black   Female             0   \n",
      "2       Other-service         Wife   Black   Female             0   \n",
      "3     Protective-serv         Wife   Black   Female             0   \n",
      "4   Machine-op-inspct         Wife   Black   Female             0   \n",
      "\n",
      "   capital_loss  hours_per_week  native_country income_bracket  \n",
      "0             0              34   United-States          <=50K  \n",
      "1             0              10   United-States          <=50K  \n",
      "2             0              24           Haiti          <=50K  \n",
      "3             0              40   United-States          <=50K  \n",
      "4             0              48   United-States          <=50K  \n"
     ]
    }
   ],
   "source": [
    "# Corrected query with valid column names\n",
    "query = \"\"\"\n",
    "    SELECT \n",
    "        age,\n",
    "        workclass,\n",
    "        education,\n",
    "        education_num,\n",
    "        marital_status,\n",
    "        occupation,\n",
    "        relationship,\n",
    "        race,\n",
    "        sex,\n",
    "        capital_gain,\n",
    "        capital_loss,\n",
    "        hours_per_week,\n",
    "        native_country,\n",
    "        income_bracket\n",
    "    FROM `bigquery-public-data.ml_datasets.census_adult_income`\n",
    "\"\"\"\n",
    "query_job = client.query(query)\n",
    "# Convert query results into a dictionary\n",
    "results = query_job.result()  # This fetches all the rows from the query\n",
    "# Load it directly into a pandas DataFrame\n",
    "df = pd.DataFrame([dict(row) for row in results])\n",
    "print(df.head())\n"
   ]
  }
 ],
 "metadata": {
  "kernelspec": {
   "display_name": "Python 3",
   "language": "python",
   "name": "python3"
  },
  "language_info": {
   "codemirror_mode": {
    "name": "ipython",
    "version": 3
   },
   "file_extension": ".py",
   "mimetype": "text/x-python",
   "name": "python",
   "nbconvert_exporter": "python",
   "pygments_lexer": "ipython3",
   "version": "3.12.8"
  }
 },
 "nbformat": 4,
 "nbformat_minor": 2
}
