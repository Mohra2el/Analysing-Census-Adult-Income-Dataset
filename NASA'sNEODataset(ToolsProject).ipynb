{
 "cells": [
  {
   "cell_type": "markdown",
   "metadata": {},
   "source": [
    "# **Analyzing \"Census Adult Income\" Dataset**"
   ]
  },
  {
   "cell_type": "markdown",
   "metadata": {},
   "source": [
    "# Step 1: Import Libraries and Explore the Dataset\n",
    "\n",
    "## **Objectives**\n",
    "- Load the dataset and examine its structure.\n",
    "- Check the first few rows of the data.\n",
    "- Assess the column data types and summary statistics.\n",
    "- Identify any missing values.\n",
    "\n",
    "## **Code**\n"
   ]
  },
  {
   "cell_type": "code",
   "execution_count": 16,
   "metadata": {},
   "outputs": [],
   "source": [
    "# Import required libraries\n",
    "import numpy as np\n",
    "import pandas as pd\n",
    "import seaborn as sns\n",
    "import matplotlib.pyplot as plt\n",
    "\n",
    "\n",
    "# Initialize BigQuery client (if working with BigQuery)\n",
    "from google.cloud import bigquery\n",
    "client = bigquery.Client(project=\"central-catcher-444011-s7\")"
   ]
  },
  {
   "cell_type": "code",
   "execution_count": 17,
   "metadata": {},
   "outputs": [
    {
     "name": "stdout",
     "output_type": "stream",
     "text": [
      "   age workclass education  education_num       marital_status  \\\n",
      "0   39   Private       9th              5   Married-civ-spouse   \n",
      "1   77   Private       9th              5   Married-civ-spouse   \n",
      "2   38   Private       9th              5   Married-civ-spouse   \n",
      "3   28   Private       9th              5   Married-civ-spouse   \n",
      "4   37   Private       9th              5   Married-civ-spouse   \n",
      "\n",
      "           occupation relationship    race      sex  capital_gain  \\\n",
      "0       Other-service         Wife   Black   Female          3411   \n",
      "1     Priv-house-serv         Wife   Black   Female             0   \n",
      "2       Other-service         Wife   Black   Female             0   \n",
      "3     Protective-serv         Wife   Black   Female             0   \n",
      "4   Machine-op-inspct         Wife   Black   Female             0   \n",
      "\n",
      "   capital_loss  hours_per_week  native_country income_bracket  \n",
      "0             0              34   United-States          <=50K  \n",
      "1             0              10   United-States          <=50K  \n",
      "2             0              24           Haiti          <=50K  \n",
      "3             0              40   United-States          <=50K  \n",
      "4             0              48   United-States          <=50K  \n"
     ]
    }
   ],
   "source": [
    "# Corrected query with valid column names\n",
    "query = \"\"\"\n",
    "    SELECT \n",
    "        age,\n",
    "        workclass,\n",
    "        education,\n",
    "        education_num,\n",
    "        marital_status,\n",
    "        occupation,\n",
    "        relationship,\n",
    "        race,\n",
    "        sex,\n",
    "        capital_gain,\n",
    "        capital_loss,\n",
    "        hours_per_week,\n",
    "        native_country,\n",
    "        income_bracket\n",
    "    FROM `bigquery-public-data.ml_datasets.census_adult_income`\n",
    "\"\"\"\n",
    "query_job = client.query(query)\n",
    "# Convert query results into a dictionary\n",
    "results = query_job.result()  # This fetches all the rows from the query\n",
    "# Load it directly into a pandas DataFrame\n",
    "df = pd.DataFrame([dict(row) for row in results])\n",
    "print(df.head())\n"
   ]
  },
  {
   "cell_type": "code",
   "execution_count": null,
   "metadata": {},
   "outputs": [
    {
     "name": "stdout",
     "output_type": "stream",
     "text": [
      "<class 'pandas.core.frame.DataFrame'>\n",
      "RangeIndex: 32561 entries, 0 to 32560\n",
      "Data columns (total 14 columns):\n",
      " #   Column          Non-Null Count  Dtype \n",
      "---  ------          --------------  ----- \n",
      " 0   age             32561 non-null  int64 \n",
      " 1   workclass       32561 non-null  object\n",
      " 2   education       32561 non-null  object\n",
      " 3   education_num   32561 non-null  int64 \n",
      " 4   marital_status  32561 non-null  object\n",
      " 5   occupation      32561 non-null  object\n",
      " 6   relationship    32561 non-null  object\n",
      " 7   race            32561 non-null  object\n",
      " 8   sex             32561 non-null  object\n",
      " 9   capital_gain    32561 non-null  int64 \n",
      " 10  capital_loss    32561 non-null  int64 \n",
      " 11  hours_per_week  32561 non-null  int64 \n",
      " 12  native_country  32561 non-null  object\n",
      " 13  income_bracket  32561 non-null  object\n",
      "dtypes: int64(5), object(9)\n",
      "memory usage: 3.5+ MB\n",
      "None\n"
     ]
    }
   ],
   "source": [
    "# Check the structure of the DataFrame\n",
    "print(df.info())"
   ]
  },
  {
   "cell_type": "code",
   "execution_count": 18,
   "metadata": {},
   "outputs": [
    {
     "name": "stdout",
     "output_type": "stream",
     "text": [
      "                age  education_num  capital_gain  capital_loss  hours_per_week\n",
      "count  32561.000000   32561.000000  32561.000000  32561.000000    32561.000000\n",
      "mean      38.581647      10.080679   1077.648844     87.303830       40.437456\n",
      "std       13.640433       2.572720   7385.292085    402.960219       12.347429\n",
      "min       17.000000       1.000000      0.000000      0.000000        1.000000\n",
      "25%       28.000000       9.000000      0.000000      0.000000       40.000000\n",
      "50%       37.000000      10.000000      0.000000      0.000000       40.000000\n",
      "75%       48.000000      12.000000      0.000000      0.000000       45.000000\n",
      "max       90.000000      16.000000  99999.000000   4356.000000       99.000000\n"
     ]
    }
   ],
   "source": [
    "# Check the structure of the DataFrame\n",
    "print(df.describe())"
   ]
  },
  {
   "cell_type": "code",
   "execution_count": 19,
   "metadata": {},
   "outputs": [
    {
     "name": "stdout",
     "output_type": "stream",
     "text": [
      "age                73\n",
      "workclass           9\n",
      "education          16\n",
      "education_num      16\n",
      "marital_status      7\n",
      "occupation         15\n",
      "relationship        6\n",
      "race                5\n",
      "sex                 2\n",
      "capital_gain      119\n",
      "capital_loss       92\n",
      "hours_per_week     94\n",
      "native_country     42\n",
      "income_bracket      2\n",
      "dtype: int64\n"
     ]
    }
   ],
   "source": [
    "# Count the number of unique values in each column\n",
    "unique_counts = df.nunique()\n",
    "\n",
    "# Print the unique counts for each column\n",
    "print(unique_counts)"
   ]
  }
 ],
 "metadata": {
  "kernelspec": {
   "display_name": "Python 3",
   "language": "python",
   "name": "python3"
  },
  "language_info": {
   "codemirror_mode": {
    "name": "ipython",
    "version": 3
   },
   "file_extension": ".py",
   "mimetype": "text/x-python",
   "name": "python",
   "nbconvert_exporter": "python",
   "pygments_lexer": "ipython3",
   "version": "3.12.8"
  }
 },
 "nbformat": 4,
 "nbformat_minor": 2
}
